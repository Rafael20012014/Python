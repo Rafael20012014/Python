{
  "nbformat": 4,
  "nbformat_minor": 0,
  "metadata": {
    "colab": {
      "provenance": [],
      "authorship_tag": "ABX9TyNT9pQWoBbhZvE0lHZ/z2HB",
      "include_colab_link": true
    },
    "kernelspec": {
      "name": "python3",
      "display_name": "Python 3"
    },
    "language_info": {
      "name": "python"
    }
  },
  "cells": [
    {
      "cell_type": "markdown",
      "metadata": {
        "id": "view-in-github",
        "colab_type": "text"
      },
      "source": [
        "<a href=\"https://colab.research.google.com/github/RafaelMeneguelo/Python/blob/main/20240207_Aula_06.ipynb\" target=\"_parent\"><img src=\"https://colab.research.google.com/assets/colab-badge.svg\" alt=\"Open In Colab\"/></a>"
      ]
    },
    {
      "cell_type": "code",
      "execution_count": 24,
      "metadata": {
        "id": "AnmJNXJDciTz",
        "colab": {
          "base_uri": "https://localhost:8080/"
        },
        "outputId": "39b603d4-d656-426b-9ef9-99ac51f0838a"
      },
      "outputs": [
        {
          "output_type": "stream",
          "name": "stdout",
          "text": [
            "0\n",
            "18\n",
            "56\n",
            "77\n",
            "95\n",
            "Acabou!\n"
          ]
        }
      ],
      "source": [
        "for numero in [0, 18, 56, 77, 95]:\n",
        "  print(numero)\n",
        "else:\n",
        "  print('Acabou!')"
      ]
    },
    {
      "cell_type": "code",
      "source": [
        "numeros = [1, 2, 3, 10, 12]\n",
        "for numero in numeros:\n",
        "  if numero == 10:\n",
        "    break\n",
        "  print(f\"Número: {numero}\")\n",
        "else:\n",
        "  print(\"Acabou!\")"
      ],
      "metadata": {
        "id": "NY1crRoHeSa6"
      },
      "execution_count": null,
      "outputs": []
    },
    {
      "cell_type": "code",
      "source": [
        "for numero in range(2, 15, 2):\n",
        "  print(numero)\n"
      ],
      "metadata": {
        "id": "V-mV7ldVngzc"
      },
      "execution_count": null,
      "outputs": []
    },
    {
      "cell_type": "markdown",
      "source": [
        "EXERCÍCIOS DE FIXAÇÃO"
      ],
      "metadata": {
        "id": "3bnxbAFXpSIz"
      }
    },
    {
      "cell_type": "markdown",
      "source": [
        "1. Construa um programa em Python utilizando os comandos aprendidos até agora para encontrar todos os números pares entre 1 e 100."
      ],
      "metadata": {
        "id": "6H7j9CVJpshT"
      }
    },
    {
      "cell_type": "code",
      "source": [
        "for pares in range(0, 101, 2):\n",
        "  print(pares)"
      ],
      "metadata": {
        "id": "LsIvimN9qujF"
      },
      "execution_count": null,
      "outputs": []
    },
    {
      "cell_type": "code",
      "source": [
        "for numeros in range(1, 101):\n",
        "  if numeros % 2 == 0:\n",
        "    print(numeros)"
      ],
      "metadata": {
        "id": "5TuYe_lSsnhH"
      },
      "execution_count": null,
      "outputs": []
    },
    {
      "cell_type": "markdown",
      "source": [
        "2. Faça um programa em Python (utilize a estrutura for) que leia 10 valores inteiros e:\n",
        "\n",
        "*   Encontre e mostre o maior valor\n",
        "*   Encontre e mostre o menor valor\n",
        "*   Calcule e mostre a média dos números lidos"
      ],
      "metadata": {
        "id": "a-DBHuADuAY9"
      }
    },
    {
      "cell_type": "code",
      "source": [
        "numeros = [10, 30, 20, 60, 100, 70, 12, 47, 13, 210]\n",
        "maior_numero = 0\n",
        "menor_numero = 0\n",
        "\n",
        "for numero in numeros:\n",
        "  if numero > maior_numero:\n",
        "    maior_numero = numero\n",
        "  elif:\n",
        "    numero <\n",
        "\n",
        "print(maior_numero)\n",
        "print(menor_numero)"
      ],
      "metadata": {
        "id": "b23JysdUt6I8"
      },
      "execution_count": null,
      "outputs": []
    },
    {
      "cell_type": "markdown",
      "source": [
        "3. Faça um programa em Python que recebe a temperatura de z cliente e imprima a mensagem de se a temperatura esta normal (menor que 37,2 C) ou com febre (38 C a 39 C) e com febre alta (acima de 39 C).\n",
        "No final mostre a quantidade de pessoas analisadas e a média de temperatura."
      ],
      "metadata": {
        "id": "vlFFK4plKLKl"
      }
    },
    {
      "cell_type": "code",
      "source": [
        "print('Deseja verificar a temperatura de mais clientes?')\n",
        "\n",
        "temperatura = float(input('Qual a temperatura?: '))"
      ],
      "metadata": {
        "id": "yzIK297yKHw8"
      },
      "execution_count": null,
      "outputs": []
    }
  ]
}