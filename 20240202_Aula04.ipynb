{
  "nbformat": 4,
  "nbformat_minor": 0,
  "metadata": {
    "colab": {
      "provenance": [],
      "collapsed_sections": [
        "KGGk8oQDsl2V"
      ],
      "authorship_tag": "ABX9TyM7iwpNThGr8U7VM2IeZ80/",
      "include_colab_link": true
    },
    "kernelspec": {
      "name": "python3",
      "display_name": "Python 3"
    },
    "language_info": {
      "name": "python"
    }
  },
  "cells": [
    {
      "cell_type": "markdown",
      "metadata": {
        "id": "view-in-github",
        "colab_type": "text"
      },
      "source": [
        "<a href=\"https://colab.research.google.com/github/RafaelMeneguelo/Python/blob/main/20240202_Aula04.ipynb\" target=\"_parent\"><img src=\"https://colab.research.google.com/assets/colab-badge.svg\" alt=\"Open In Colab\"/></a>"
      ]
    },
    {
      "cell_type": "markdown",
      "source": [
        "# Exercícios de fixação"
      ],
      "metadata": {
        "id": "KGGk8oQDsl2V"
      }
    },
    {
      "cell_type": "markdown",
      "source": [
        "1. Faça um programa que leia 2 notas de um aluno, calcule a média e imprima aprovado ou reprovado (para ser aprovado a média deve ser no mínimo 6)."
      ],
      "metadata": {
        "id": "cSfQ_-Ies8E0"
      }
    },
    {
      "cell_type": "code",
      "source": [
        "nota1 = float(input(\"Qual foi sua primeira nota?: \"))\n",
        "\n",
        "if nota1 < 0 or nota1 > 10:\n",
        "  print(\"A nota 1 precisa estar entre 1 e 10! Digite novamente.\")\n",
        "else:\n",
        "  nota2 = float(input(\"Qual foi sua segunda nota?: \"))\n",
        "  if nota2 < 0 or nota2 > 10:\n",
        "    print(\"A nota 1 precisa estar entre 1 e 10! Digite novamente.\")\n",
        "  else:\n",
        "    media = (nota1 + nota2) / 2\n",
        "    if media >= 6:\n",
        "      print(\"Aprovado!\")\n",
        "    else:\n",
        "      print(\"Reprovado!\")"
      ],
      "metadata": {
        "id": "08GDH_n6tYK4"
      },
      "execution_count": null,
      "outputs": []
    },
    {
      "cell_type": "code",
      "source": [
        "nota1 = float(input(\"Qual foi sua primeira nota?: \"))\n",
        "\n",
        "if nota1 >= 0 and nota1 <= 10:\n",
        "  nota2 = float(input(\"Qual foi sua segunda nota?: \"))\n",
        "  if nota2 >= 0 and nota2 <= 10:\n",
        "    media = (nota1 + nota2) / 2\n",
        "    if media >= 6:\n",
        "      print(\"Aprovado!\")\n",
        "    else:\n",
        "      print(\"Reprovado!\")\n",
        "  else:\n",
        "    print(\"A nota 2 precisa estar entre 1 e 10! Digite novamente.\")\n",
        "else:\n",
        "  print(\"A nota 1 precisa estar entre 1 e 10! Digite novamente.\")\n"
      ],
      "metadata": {
        "id": "n-wtfTGm8ihH"
      },
      "execution_count": null,
      "outputs": []
    },
    {
      "cell_type": "markdown",
      "source": [
        "2. Faça um programa que peça dois números ao usuário e mostre qual o maior e qual é o menor."
      ],
      "metadata": {
        "id": "jcJkoQcBtYvC"
      }
    },
    {
      "cell_type": "code",
      "source": [
        "num1 = float(input(\"Insira um número: \"))\n",
        "num2 = float(input(\"Insira outro número: \"))\n",
        "\n",
        "if num1 > num2:\n",
        "  print(\"O número {:.2f} é o maior e o número {:.2f} é o menor!\".format(num1, num2))\n",
        "else:\n",
        "  print(\"O número {:.2f} é o maior e o número {:.2f} é o menor!\".format(num2, num1))"
      ],
      "metadata": {
        "id": "S3NESFQ7tuI1"
      },
      "execution_count": null,
      "outputs": []
    },
    {
      "cell_type": "markdown",
      "source": [
        "3. Escreva um programa em Python que recebe um inteiro e diga se é par ou ímpar."
      ],
      "metadata": {
        "id": "ndUpUcGctukE"
      }
    },
    {
      "cell_type": "code",
      "source": [
        "num1 = int(input(\"Insira um número: \"))\n",
        "\n",
        "if num1 % 2 == 0:\n",
        "  print(\"O número é par!\")\n",
        "else:\n",
        "  print(\"O número é ímpar!\")"
      ],
      "metadata": {
        "id": "I19pTzFJt2Qj"
      },
      "execution_count": null,
      "outputs": []
    },
    {
      "cell_type": "markdown",
      "source": [
        "4. Escreva um programa que pergunte o ano de nascimento de uma pessoa e diga se ele é maior de idade."
      ],
      "metadata": {
        "id": "98BmVt1Rt2wh"
      }
    },
    {
      "cell_type": "code",
      "source": [
        "ano = int(input(\"Insira o ano do seu nascimento: \"))\n",
        "\n",
        "if 2024 - ano >= 18:\n",
        "  print(\"Você é maior de idade!\")\n",
        "else:\n",
        "  print(\"Você é menor de idade!\")"
      ],
      "metadata": {
        "id": "ybWv0uhKt9YG"
      },
      "execution_count": null,
      "outputs": []
    },
    {
      "cell_type": "markdown",
      "source": [
        "5. Faça um algoritimo para ler dois números inteiros e informar se estes são iguais ou diferentes."
      ],
      "metadata": {
        "id": "XsAv6QDmt9s_"
      }
    },
    {
      "cell_type": "code",
      "source": [
        "num1 = int(input(\"Insira um número: \"))\n",
        "num2 = int(input(\"Insira outro número: \"))\n",
        "\n",
        "if num1 == num2:\n",
        "  print(\"Os números são iguais!\")\n",
        "else:\n",
        "  print(\"Os números são diferentes!\")"
      ],
      "metadata": {
        "id": "OAYTD5xUuEcL"
      },
      "execution_count": null,
      "outputs": []
    },
    {
      "cell_type": "markdown",
      "source": [
        "6. Desenvolva um programa que recebe do usuário o placar de um jogo de futebol (os gols de cada time) e informa se o resultado foi um empate, se a vitória foi do primeiro time ou do segundo time."
      ],
      "metadata": {
        "id": "fx4QcSP2NbPI"
      }
    },
    {
      "cell_type": "code",
      "source": [
        "gols_time1 = int(input(\"Qual foi a quantidade de gols que o time 1 fez?: \"))\n",
        "gols_time2 = int(input(\"Qual foi a quantidade de gols que o time 2 fez?: \"))\n",
        "\n",
        "if gols_time1 == gols_time2:\n",
        "  print(\"O jogo terminou empatado!\")\n",
        "elif gols_time1 > gols_time2:\n",
        "  print(\"O time 1 venceu a partida!\")\n",
        "else:\n",
        "  print(\"O time 2 venceu a partida!\")"
      ],
      "metadata": {
        "id": "lERk9ldKN0kD"
      },
      "execution_count": null,
      "outputs": []
    },
    {
      "cell_type": "markdown",
      "source": [
        "7. Faça um algoritimo que receba um valor de uma compra e receba o número de prestações, apresente o valor das prestações sem juros."
      ],
      "metadata": {
        "id": "FJfXHoAwN08Y"
      }
    },
    {
      "cell_type": "code",
      "source": [
        "compra = float(input(\"Qual foi o valor da compra?: \"))\n",
        "prestacoes = int(input(\"O valor será pago em quantas prestações?: \"))\n",
        "\n",
        "operacao = compra / prestacoes\n",
        "\n",
        "print(\"O valor de cada prestação será de: R$ {:.2f}\".format(operacao))\n"
      ],
      "metadata": {
        "id": "m6Jl5fPVOA2Y"
      },
      "execution_count": null,
      "outputs": []
    },
    {
      "cell_type": "markdown",
      "source": [
        "8. Elabore um algoritimo que dada a idade de um nadador classifique-o em uma das seguintes categorias:\n",
        "\n",
        "*   Infantil A = 5 a 7 anos\n",
        "*   Infantil B = 8 a 11 anos\n",
        "*   Juvenil A = 12 a 13 anos\n",
        "*   Juvenil B = 14 a 17 anos\n",
        "*   Adultos = Maiores de 18 anos\n",
        "\n",
        "\n",
        "\n"
      ],
      "metadata": {
        "id": "S9TGB0aGOBOf"
      }
    },
    {
      "cell_type": "code",
      "source": [
        "idade = int(input(\"Qual a idade do nadador?: \"))\n",
        "\n",
        "if idade >= 5 and idade <= 7:\n",
        "  print(\"A idade de {:} anos se encaixa na categoria Infantil A.\" .format(idade))\n",
        "elif idade >= 8 and idade <= 11:\n",
        "  print(\"A idade de {:} anos se encaixa na categoria Infantil B.\" .format(idade))\n",
        "elif idade >= 12 and idade <= 13:\n",
        "  print(\"A idade de {:} anos se encaixa na categoria Juvenil A.\" .format(idade))\n",
        "elif idade >= 14 and idade <= 17:\n",
        "  print(\"A idade de {:} anos se encaixa na categoria Juvenil B.\" .format(idade))\n",
        "elif idade >= 18:\n",
        "  print(\"A idade de {:} anos se encaixa na categoria Juvenil B.\" .format(idade))\n",
        "else:\n",
        "  print(\"A idade de {:} anos não se encaixa em nenhuma categoria.\" .format(idade))"
      ],
      "metadata": {
        "id": "7AyoaBGoOIg5"
      },
      "execution_count": null,
      "outputs": []
    },
    {
      "cell_type": "code",
      "source": [
        "idade = int(input(\"Qual a idade do nadador?: \"))\n",
        "\n",
        "if idade >= 5:\n",
        "  if idade <= 7:\n",
        "    print(\"A categoria é Infantil A\")\n",
        "  elif idade <= 11:\n",
        "    print(\"A categoria é Infantil B\")\n",
        "  elif idade <= 13:\n",
        "    print(\"A categoria é Juvenil A\")\n",
        "  elif idade <= 17:\n",
        "    print(\"A categoria é Juvenil B\")\n",
        "  elif idade <= 18:\n",
        "    print(\"A categoria é Adultos\")\n",
        "else:\n",
        "  print(\"A idade não se encaixa em nenhuma categoria!\")\n",
        "\n",
        ""
      ],
      "metadata": {
        "id": "Gg4oEu8uW8vI"
      },
      "execution_count": null,
      "outputs": []
    }
  ]
}