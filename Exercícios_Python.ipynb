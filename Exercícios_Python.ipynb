{
  "nbformat": 4,
  "nbformat_minor": 0,
  "metadata": {
    "colab": {
      "provenance": [],
      "authorship_tag": "ABX9TyOZlf0ADvwz0yfP2Bw6SQ1H",
      "include_colab_link": true
    },
    "kernelspec": {
      "name": "python3",
      "display_name": "Python 3"
    },
    "language_info": {
      "name": "python"
    }
  },
  "cells": [
    {
      "cell_type": "markdown",
      "metadata": {
        "id": "view-in-github",
        "colab_type": "text"
      },
      "source": [
        "<a href=\"https://colab.research.google.com/github/RafaelMeneguelo/Python_SENAI/blob/main/Exerc%C3%ADcios_Python.ipynb\" target=\"_parent\"><img src=\"https://colab.research.google.com/assets/colab-badge.svg\" alt=\"Open In Colab\"/></a>"
      ]
    },
    {
      "cell_type": "markdown",
      "source": [
        "Faça um programa que leia algo pelo teclado e mostre na tela o seu tipo primitivo e todas as informações possíveis sobre ele."
      ],
      "metadata": {
        "id": "8SKpuQ9FkfyL"
      }
    },
    {
      "cell_type": "code",
      "source": [
        "algo = input('Digite algo: ')\n",
        "print('O tipo primitivo desse valor é', type(algo))\n",
        "print('Só tem espaços?', algo.isspace())\n",
        "print('É um número?', algo.isnumeric())\n",
        "print('É alfabético?', algo.isalpha())\n",
        "print('Está em maiúsculas?', algo.isupper())\n",
        "print('Está em minúsculas?', algo.islower())\n",
        "print('Está capitalizada?', algo.istitle())\n"
      ],
      "metadata": {
        "colab": {
          "base_uri": "https://localhost:8080/"
        },
        "id": "Q-r2kL13k3LZ",
        "outputId": "1848d9f3-575f-4828-9558-e8f160899391"
      },
      "execution_count": 6,
      "outputs": [
        {
          "output_type": "stream",
          "name": "stdout",
          "text": [
            "Digite algo: Algo\n",
            "O tipo primitivo desse valor é <class 'str'>\n",
            "Só tem espaços? False\n",
            "É um número? False\n",
            "É alfabético? True\n",
            "Está em maiúsculas? False\n",
            "Está em minúsculas? False\n",
            "Está capitalizada? True\n"
          ]
        }
      ]
    }
  ]
}