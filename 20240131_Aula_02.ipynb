{
  "nbformat": 4,
  "nbformat_minor": 0,
  "metadata": {
    "colab": {
      "provenance": [],
      "authorship_tag": "ABX9TyPOMmqvOlFRJTPUOgPN71Yd",
      "include_colab_link": true
    },
    "kernelspec": {
      "name": "python3",
      "display_name": "Python 3"
    },
    "language_info": {
      "name": "python"
    }
  },
  "cells": [
    {
      "cell_type": "markdown",
      "metadata": {
        "id": "view-in-github",
        "colab_type": "text"
      },
      "source": [
        "<a href=\"https://colab.research.google.com/github/Rafael20012014/Python/blob/main/20240131_Aula_02.ipynb\" target=\"_parent\"><img src=\"https://colab.research.google.com/assets/colab-badge.svg\" alt=\"Open In Colab\"/></a>"
      ]
    },
    {
      "cell_type": "code",
      "source": [
        "nome = input(\"Digite  seu nome: \") # Variável Nome tipo Char\n",
        "print(\"seu nome é: \", nome) # Estrtura para impressão"
      ],
      "metadata": {
        "id": "YB8HEDdN522c"
      },
      "execution_count": null,
      "outputs": []
    },
    {
      "cell_type": "code",
      "source": [
        "a = int(input(\"Insira o primeiro número: \"))\n",
        "b = int(input(\"Insira o segundo número: \"))\n",
        "\n",
        "soma = a + b\n",
        "\n",
        "print(\"A soma dos números inseridos é: \", soma)"
      ],
      "metadata": {
        "id": "Kz8ZVwbx9IKk"
      },
      "execution_count": null,
      "outputs": []
    },
    {
      "cell_type": "code",
      "source": [
        "#Entrega 1\n",
        "\n",
        "pedido = str(input(\"Qual é o seu pedido?: \"))\n",
        "quantidade = int(input(\"Qual a quantidade desejada?: \"))\n",
        "\n",
        "print(pedido)\n",
        "print(quantidade)"
      ],
      "metadata": {
        "id": "cr-wxCYp_cIl"
      },
      "execution_count": null,
      "outputs": []
    },
    {
      "cell_type": "code",
      "source": [
        "a = int(input(\"Insira um número: \")) # Cria uma variável para solicitar um número inteiro ao usuário\n",
        "\n",
        "quadrado = a ** 2 # Realiza a operação com o número inserido\n",
        "\n",
        "print(\"O quadrado de\", a, \"é: \", quadrado) # Imprime o resultado"
      ],
      "metadata": {
        "id": "Uxh_CM0kC9HO"
      },
      "execution_count": null,
      "outputs": []
    },
    {
      "cell_type": "code",
      "source": [
        "a = input(\"Insira a primeira palavra: \")\n",
        "b = input(\"Insira a segunda palavra: \")\n",
        "\n",
        "concatena = a + b\n",
        "\n",
        "print(\"O usuário digitou\", a ,\"e\", b ,\"!\")"
      ],
      "metadata": {
        "id": "8NuUvIiaEpve"
      },
      "execution_count": null,
      "outputs": []
    },
    {
      "cell_type": "code",
      "source": [
        "numero = int(input(\"Digite um número: \"))\n",
        "\n",
        "sucessor = numero + 1\n",
        "antecessor = numero - 1\n",
        "\n",
        "print (\"O sucessor deste número é\", sucessor, \"e o antecessor deste número é\", antecessor)"
      ],
      "metadata": {
        "id": "IqcF5u04F8KY"
      },
      "execution_count": null,
      "outputs": []
    },
    {
      "cell_type": "code",
      "source": [
        "# Operadores relacionais\n",
        "\n",
        "a = 1\n",
        "operacao = a == 2\n",
        "print(operacao)"
      ],
      "metadata": {
        "colab": {
          "base_uri": "https://localhost:8080/"
        },
        "id": "08rohnkdigh5",
        "outputId": "7e3df0ef-e8eb-4428-e37b-92eb6b5d42d7"
      },
      "execution_count": 5,
      "outputs": [
        {
          "output_type": "stream",
          "name": "stdout",
          "text": [
            "False\n"
          ]
        }
      ]
    }
  ]
}