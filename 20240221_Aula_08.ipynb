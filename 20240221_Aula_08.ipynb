{
  "nbformat": 4,
  "nbformat_minor": 0,
  "metadata": {
    "colab": {
      "provenance": [],
      "authorship_tag": "ABX9TyMMnuCMjxFR52HfVfQ6YlwR",
      "include_colab_link": true
    },
    "kernelspec": {
      "name": "python3",
      "display_name": "Python 3"
    },
    "language_info": {
      "name": "python"
    }
  },
  "cells": [
    {
      "cell_type": "markdown",
      "metadata": {
        "id": "view-in-github",
        "colab_type": "text"
      },
      "source": [
        "<a href=\"https://colab.research.google.com/github/RafaelMeneguelo/Python_SENAI/blob/main/20240221_Aula_08.ipynb\" target=\"_parent\"><img src=\"https://colab.research.google.com/assets/colab-badge.svg\" alt=\"Open In Colab\"/></a>"
      ]
    },
    {
      "cell_type": "code",
      "source": [
        "def soma (n1, n2):\n",
        "  soma = n1 + n2\n",
        "  return soma\n",
        "\n",
        "def subtracao (n1, n2):\n",
        "  subtracao = n1 - n2\n",
        "  return subtracao\n",
        "\n",
        "def multiplicacao (n1, n2):\n",
        "  multiplicacao = n1 * n2\n",
        "  return multiplicacao\n",
        "\n",
        "def divisao (n1, n2):\n",
        "  divisao = n1 / n2\n",
        "  return divisao\n",
        "\n",
        "print(\"Bem-vindo a calculadora!\\n\")\n",
        "\n",
        "num1 = float(input(\"Digite o primeiro número: \"))\n",
        "num2 = float(input(\"Digite o segundo número: \"))\n",
        "\n",
        "operacao = int(input(\n",
        "'''\n",
        "Qual operação você deseja realizar?\n",
        "\n",
        "1 = Adição\n",
        "2 = Subtração\n",
        "3 = Multiplicação\n",
        "4 = Divisão\n",
        "\n",
        "'''))\n",
        "\n",
        "if operacao <= 0 or operacao > 4:\n",
        "  print(\"\\nOperador inválido!\")\n",
        "else:\n",
        "  if operacao == 1:\n",
        "    print(f\"\\nO valor da soma é: {soma(num1, num2):.2f}\")\n",
        "  elif operacao == 2:\n",
        "      print(f\"\\nO valor da subtração é: {subtracao(num1, num2):.2f}\")\n",
        "  elif operacao == 3:\n",
        "      print(f\"\\nO valor da multiplicação é: {multiplicacao(num1, num2):.2f}\")\n",
        "  elif operacao == 4:\n",
        "      print(f\"\\nO valor da divisão é: {divisao(num1, num2):.2f}\")\n",
        "\n",
        "  print(f\"\\nConta realizada!\")"
      ],
      "metadata": {
        "id": "YlKzkqPVk2nB"
      },
      "execution_count": null,
      "outputs": []
    },
    {
      "cell_type": "code",
      "source": [
        "valor = 100.00\n",
        "\n",
        "def calculo ():\n",
        "  global valor\n",
        "  valor = 50.00\n",
        "\n",
        "\n",
        "print(f\"Valor fora da função: {valor:.2f}\")\n",
        "print(f\"Valor dentro da função: {calculo():.2f}\")"
      ],
      "metadata": {
        "id": "TqElC9VQz0nt"
      },
      "execution_count": null,
      "outputs": []
    },
    {
      "cell_type": "markdown",
      "source": [
        "Escreva um programa que compare duas listas. Considere a primeira lista como a versão inicial e a segunda como a versão após alterações. Utilizando operações com conjuntos, seu programa deverá imprimir a lista de modificações entre essas duas versões, listando:\n",
        "\n",
        "\n",
        "• os elementos que não mudaram\n",
        "\n",
        "• os novos elementos\n",
        "\n",
        "• os elementos que foram removidos"
      ],
      "metadata": {
        "id": "u2KI1mC8E-6k"
      }
    },
    {
      "cell_type": "code",
      "source": [
        "lista1 = [1, 2, 3, 4, 5, 6, 7, 8, 9, 10]\n",
        "lista2 = [2, 3, 5, 7, 11]\n",
        "\n",
        "i1 = 0\n",
        "i2 = 0\n",
        "lista_nova1 = []\n",
        "lista_nova2 = []\n",
        "\n",
        "for i1 in lista1:\n",
        "  for i2 in lista2:\n",
        "    if i1 == i2:\n",
        "      lista_nova1.append(i1)\n",
        "\n",
        "i1 = 0\n",
        "i2 = 0\n",
        "\n",
        "for i1 in lista1:\n",
        "  for i2 in lista2:\n",
        "    if i1 != i2:\n",
        "      lista_nova2.append(i1)\n",
        "\n",
        "print(i1)\n",
        "print(i2)\n",
        "print(f\"Os números na lista {lista_nova1} não mudaram após as alterações\")\n",
        "print(lista_nova2)\n",
        "\n",
        "\n",
        "\n",
        "# print(\"Os elementos que não mudaram são: \")\n",
        "# print(\"Os novos elementos são: \")\n",
        "# print(\"Os elementos que foram removidos são: \")"
      ],
      "metadata": {
        "colab": {
          "base_uri": "https://localhost:8080/"
        },
        "id": "Dgcb8sFOFUMu",
        "outputId": "adbda96d-d460-4035-9c0d-06378f43d60c"
      },
      "execution_count": 119,
      "outputs": [
        {
          "output_type": "stream",
          "name": "stdout",
          "text": [
            "10\n",
            "11\n",
            "Os números na lista [2, 3, 5, 7] não mudaram após as alterações\n",
            "[]\n"
          ]
        }
      ]
    }
  ]
}