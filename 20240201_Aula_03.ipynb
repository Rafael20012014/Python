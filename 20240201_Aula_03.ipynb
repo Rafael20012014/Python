{
  "nbformat": 4,
  "nbformat_minor": 0,
  "metadata": {
    "colab": {
      "provenance": [],
      "authorship_tag": "ABX9TyOgTuGk35IDxsGXWus6DXch",
      "include_colab_link": true
    },
    "kernelspec": {
      "name": "python3",
      "display_name": "Python 3"
    },
    "language_info": {
      "name": "python"
    }
  },
  "cells": [
    {
      "cell_type": "markdown",
      "metadata": {
        "id": "view-in-github",
        "colab_type": "text"
      },
      "source": [
        "<a href=\"https://colab.research.google.com/github/RafaelMeneguelo/Python/blob/main/20240201_Aula_03.ipynb\" target=\"_parent\"><img src=\"https://colab.research.google.com/assets/colab-badge.svg\" alt=\"Open In Colab\"/></a>"
      ]
    },
    {
      "cell_type": "markdown",
      "source": [
        "Programa que solicita e retorna o nome do usuário."
      ],
      "metadata": {
        "id": "rX8cTEUvL9_H"
      }
    },
    {
      "cell_type": "code",
      "source": [
        "nome = input(\"Digite  seu nome: \") # Variável Nome tipo Char\n",
        "print(\"seu nome é: \", nome) # Estrtura para impressão"
      ],
      "metadata": {
        "id": "YB8HEDdN522c"
      },
      "execution_count": null,
      "outputs": []
    },
    {
      "cell_type": "markdown",
      "source": [
        "Programa que solicita a inserção de dois números e retorna a soma das duas inserções."
      ],
      "metadata": {
        "id": "XoyOEZDFNR8X"
      }
    },
    {
      "cell_type": "code",
      "source": [
        "a = int(input(\"Insira o primeiro número: \"))\n",
        "b = int(input(\"Insira o segundo número: \"))\n",
        "\n",
        "soma = a + b\n",
        "\n",
        "print(\"A soma dos números inseridos é: \", soma)"
      ],
      "metadata": {
        "id": "Kz8ZVwbx9IKk"
      },
      "execution_count": null,
      "outputs": []
    },
    {
      "cell_type": "markdown",
      "source": [
        "01 - Exercício em sala\n",
        "\n",
        "Programa que solicita um número ao usuário e retorna o quadrado deste número."
      ],
      "metadata": {
        "id": "0uHG6gDENlIL"
      }
    },
    {
      "cell_type": "code",
      "source": [
        "a = int(input(\"Insira um número: \")) # Cria uma variável para solicitar um número inteiro ao usuário\n",
        "\n",
        "quadrado = a ** 2 # Realiza a operação com o número inserido\n",
        "\n",
        "print(\"O quadrado de\", a, \"é: \", quadrado) # Imprime o resultado"
      ],
      "metadata": {
        "id": "Uxh_CM0kC9HO"
      },
      "execution_count": null,
      "outputs": []
    },
    {
      "cell_type": "markdown",
      "source": [
        "02 - Exercício em sala\n",
        "\n",
        "Programa que solicita a inserção de duas palavras e retorna a concatenação das duas inserções."
      ],
      "metadata": {
        "id": "BI5BBhbqOEIs"
      }
    },
    {
      "cell_type": "code",
      "source": [
        "a = input(\"Insira a primeira palavra: \")\n",
        "b = input(\"Insira a segunda palavra: \")\n",
        "\n",
        "concatena = a + b\n",
        "\n",
        "print(\"O usuário digitou: \" + a + \" e \" + b)"
      ],
      "metadata": {
        "id": "8NuUvIiaEpve"
      },
      "execution_count": null,
      "outputs": []
    },
    {
      "cell_type": "markdown",
      "source": [
        "03 - Exercício em sala\n",
        "\n",
        "Programa que solicita um número ao usuário e retorna o antecessor e o sucessor do número inserido."
      ],
      "metadata": {
        "id": "lNADUit8OYI-"
      }
    },
    {
      "cell_type": "code",
      "source": [
        "numero = int(input(\"Digite um número: \"))\n",
        "\n",
        "sucessor = numero + 1\n",
        "antecessor = numero - 1\n",
        "\n",
        "print (\"O sucessor deste número é\", sucessor, \"e o antecessor deste número é\", antecessor)"
      ],
      "metadata": {
        "id": "IqcF5u04F8KY"
      },
      "execution_count": null,
      "outputs": []
    },
    {
      "cell_type": "markdown",
      "source": [
        "04 - Exercício em sala\n",
        "\n",
        "Programa que solicita um valor para a base e um valor para a altura de um retângulo e retorna o cálculo do perímetro e da área deste retângulo."
      ],
      "metadata": {
        "id": "FeLBBDXsOpFj"
      }
    },
    {
      "cell_type": "code",
      "source": [
        "base = float(input(\"Insira o valor da base: \"))\n",
        "altura = float(input(\"Insira o valor da altura: \"))\n",
        "\n",
        "perimetro = 2 * (base + altura)\n",
        "area = (base * altura)\n",
        "\n",
        "print(\"O perímetro do retângulo é:\", perimetro)\n",
        "print(\"A área do retângulo é: {:.2f}\".format(area))"
      ],
      "metadata": {
        "id": "plTouCJdp-SB"
      },
      "execution_count": null,
      "outputs": []
    },
    {
      "cell_type": "markdown",
      "source": [
        "05 - Exercício em sala\n",
        "\n",
        "Programa que solicita um valor, taxa e o tempo e realiza o cálculo da prestação."
      ],
      "metadata": {
        "id": "o-_doAj2PDQM"
      }
    },
    {
      "cell_type": "code",
      "source": [
        "valor = float(input(\"Digite o valor: \"))\n",
        "taxa = float(input(\"Digite o valor da taxa: \"))\n",
        "tempo = int(input(\"Digite o valor do tempo: \"))\n",
        "\n",
        "operacao = valor + (valor * (taxa/100) * tempo)\n",
        "\n",
        "print(\"O valor da prestação será de:\", operacao)\n"
      ],
      "metadata": {
        "id": "eGl2b0Hst87E"
      },
      "execution_count": null,
      "outputs": []
    },
    {
      "cell_type": "markdown",
      "source": [
        "Programa para mostrar o print com \"+\""
      ],
      "metadata": {
        "id": "M842u7fAPkcK"
      }
    },
    {
      "cell_type": "code",
      "source": [
        "a = int(input(\"Insira o primeiro número: \"))\n",
        "b = int(input(\"Insira o segundo número: \"))\n",
        "print(\"A soma dos números inseridos é: \", a + b)"
      ],
      "metadata": {
        "id": "DvXtPUlZo23D"
      },
      "execution_count": null,
      "outputs": []
    },
    {
      "cell_type": "markdown",
      "source": [
        "Operadores relacionais"
      ],
      "metadata": {
        "id": "EWXxQ_P8PqKo"
      }
    },
    {
      "cell_type": "code",
      "source": [
        "a = 1\n",
        "operacao = a == 2\n",
        "print(operacao)"
      ],
      "metadata": {
        "id": "08rohnkdigh5"
      },
      "execution_count": null,
      "outputs": []
    },
    {
      "cell_type": "markdown",
      "source": [
        "# ENTREGA 01"
      ],
      "metadata": {
        "id": "gLGWXE6FPzgv"
      }
    },
    {
      "cell_type": "markdown",
      "source": [
        "1. O cardápio de uma lancheria é o seguinte:\n",
        "\n",
        "![Cardápio.JPG](data:image/jpeg;base64,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)\n",
        "\n",
        "Escrever um algoritmo que leia o código do item pedido, a quantidade e calcule o valor a ser pago por aquele lanche. Considere que a cada execução somente será calculado um item."
      ],
      "metadata": {
        "id": "RMNoYbxoCOQp"
      }
    },
    {
      "cell_type": "code",
      "source": [
        "print('''\n",
        "\n",
        "** HAMBURGUERIA ALITOMRAFA **\n",
        "\n",
        "CÓD |     PRODUTO     | VALOR\n",
        "--------------------------------\n",
        "100 | Cachorro quente | R$ 1,20\n",
        "101 | Bauru simples   | R$ 1,30\n",
        "102 | Bauru com ovo   | R$ 1,50\n",
        "103 | Hambúrger       | R$ 1,20\n",
        "104 | Cheeseburguer   | R$ 1,30\n",
        "105 | Refrigerante    | R$ 1,00\n",
        "''')\n",
        "\n",
        "pedido = int(input(\"Digite o código do seu pedido?: \"))\n",
        "if pedido >= 100 and pedido <= 105:\n",
        "  quantidade = int(input(\"Qual a quantidade desejada?: \"))\n",
        "  if pedido == 100:\n",
        "    operacao = quantidade * 1.20\n",
        "  elif pedido == 101:\n",
        "    operacao = quantidade * 1.30\n",
        "  elif pedido == 102:\n",
        "    operacao = quantidade * 1.50\n",
        "  elif pedido == 103:\n",
        "    operacao = quantidade * 1.20\n",
        "  elif pedido == 104:\n",
        "    operacao = quantidade * 1.30\n",
        "  elif pedido == 105:\n",
        "    operacao = quantidade * 1.00\n",
        "  print(\"O seu pedido custará: {:.2f}\".format(operacao))\n",
        "else:\n",
        "  print(\"Código inválido!\")"
      ],
      "metadata": {
        "id": "cr-wxCYp_cIl"
      },
      "execution_count": null,
      "outputs": []
    },
    {
      "cell_type": "markdown",
      "source": [
        "2. Tendo como dados de entrada a altura e o sexo de uma pessoa (?M? masculino\n",
        "e ?F? feminino), construa um algoritmo que calcule seu peso ideal, utilizando as\n",
        "seguintes fórmulas:\n",
        "\n",
        "- para homens: (72.7*h)-58\n",
        "- para mulheres: (62.1*h)-44.7"
      ],
      "metadata": {
        "id": "IJw9wJF2C5eT"
      }
    },
    {
      "cell_type": "code",
      "source": [
        "altura = float(input(\"Digite sua altura (em metros): \"))\n",
        "sexo = input(\"Qual o seu sexo? (use M para masculino e F para feminino): \")\n",
        "\n",
        "if sexo == \"M\":\n",
        "  peso_ideal = ((72.7 * altura) - 58)\n",
        "elif sexo == \"F\":\n",
        "  peso_ideal = ((62.1 * altura) - 44.7)\n",
        "else:\n",
        "  print('''\n",
        "Inserção inválida, reinicie a aplicação!''')\n",
        "\n",
        "print('''\n",
        "O seu peso ideal é: {:.2f}''' .format(peso_ideal))"
      ],
      "metadata": {
        "id": "-dDmVUKnCHq3"
      },
      "execution_count": null,
      "outputs": []
    },
    {
      "cell_type": "markdown",
      "source": [
        "3. Um banco concederá um crédito especial aos seus clientes, variável com o saldo\n",
        "médio no último ano. Faça um algoritmo que leia o saldo médio de um cliente e calcule\n",
        "o valor do crédito de acordo com a tabela abaixo. Mostre uma mensagem informando\n",
        "o saldo médio e o valor do crédito. (use o comando caso-de e não faça repetições)\n",
        "\n"
      ],
      "metadata": {
        "id": "WFqvlHn8C7vT"
      }
    },
    {
      "cell_type": "code",
      "source": [
        "saldo_medio = float(input(\"Qual foi o seu saldo médio no último ano?: \"))\n",
        "\n",
        "if saldo_medio <= 200:\n",
        "  print(\"Saldo médio:        R$ {:.2f}\" .format(saldo_medio), '''\n",
        "Crédito disponível: R$ 0.00''')\n",
        "elif saldo_medio >= 201 and saldo_medio <= 400:\n",
        "  operacao = 0.20 * saldo_medio\n",
        "  print(\"Saldo médio:        R$ {:.2f}\" .format(saldo_medio),'''\n",
        "Crédito disponível: R$ {:.2f}''' .format(operacao))\n",
        "elif saldo_medio >= 401 and saldo_medio <= 600:\n",
        "  operacao = 0.30 * saldo_medio\n",
        "  print(\"Saldo médio:        R$ {:.2f}\" .format(saldo_medio),'''\n",
        "Crédito disponível: R$ {:.2f}''' .format(operacao))\n",
        "elif saldo_medio >= 601:\n",
        "  operacao = 0.40 * saldo_medio\n",
        "  print(\"Saldo médio:        R$ {:.2f}\" .format(saldo_medio),'''\n",
        "Crédito disponível: R$ {:.2f}''' .format(operacao))\n",
        ""
      ],
      "metadata": {
        "id": "YJ0exR32GiJ5"
      },
      "execution_count": null,
      "outputs": []
    }
  ]
}