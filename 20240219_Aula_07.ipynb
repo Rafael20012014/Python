{
  "nbformat": 4,
  "nbformat_minor": 0,
  "metadata": {
    "colab": {
      "provenance": [],
      "authorship_tag": "ABX9TyP66h7qPhIDshNTkr/sM0HM",
      "include_colab_link": true
    },
    "kernelspec": {
      "name": "python3",
      "display_name": "Python 3"
    },
    "language_info": {
      "name": "python"
    }
  },
  "cells": [
    {
      "cell_type": "markdown",
      "metadata": {
        "id": "view-in-github",
        "colab_type": "text"
      },
      "source": [
        "<a href=\"https://colab.research.google.com/github/RafaelMeneguelo/Python_SENAI/blob/main/20240219_Aula_07.ipynb\" target=\"_parent\"><img src=\"https://colab.research.google.com/assets/colab-badge.svg\" alt=\"Open In Colab\"/></a>"
      ]
    },
    {
      "cell_type": "code",
      "execution_count": null,
      "metadata": {
        "id": "kuLDTysxa3Tc"
      },
      "outputs": [],
      "source": [
        "paises = 'Brasil', 'Argentina', 'Uruguai', 'Chile'\n",
        "pais = paises[2]\n",
        "print(pais)"
      ]
    },
    {
      "cell_type": "code",
      "source": [
        "paises = 'Brasil', 'Argentina', 'Uruguai', 'Chile'\n",
        "for pais in paises:\n",
        "  print(pais)"
      ],
      "metadata": {
        "id": "eWSnghKRbzsX"
      },
      "execution_count": null,
      "outputs": []
    },
    {
      "cell_type": "code",
      "source": [
        "lista_carros = ['Gol', 'Corolla', 'Ranger']\n",
        "tupla_carros = tuple(lista_carros)\n",
        "print(f'Tupla carros: {tupla_carros}')"
      ],
      "metadata": {
        "id": "EA9-V18fdYJX"
      },
      "execution_count": null,
      "outputs": []
    },
    {
      "cell_type": "code",
      "source": [
        "tupla_carros = 'Golf', 'Corolla', 'Civic'\n",
        "carro1, carro2, carro3 = tupla_carros\n",
        "print(f\"Carro1: {carro1}\")\n",
        "print(f\"Carro2: {carro2}\")\n",
        "print(f\"Carro3: {carro3}\")"
      ],
      "metadata": {
        "id": "XqwMjoPOkLe8"
      },
      "execution_count": null,
      "outputs": []
    },
    {
      "cell_type": "code",
      "source": [
        "numeros = [1, 2, 3, 4, 5]\n",
        "print(type(numeros))\n",
        "\n",
        "for n in numeros:\n",
        "  print(n)"
      ],
      "metadata": {
        "id": "S3oOifmuiOQq"
      },
      "execution_count": null,
      "outputs": []
    },
    {
      "cell_type": "code",
      "source": [
        "tupla_carros = 'Golf', 'Corolla', 'Civic', 'Tucson', 'GLA'\n",
        "carro1, *carros = tupla_carros\n",
        "print(f'Carro 1: {carro1}')\n",
        "print(f'Carros: {carros}')"
      ],
      "metadata": {
        "colab": {
          "base_uri": "https://localhost:8080/"
        },
        "id": "dUWMXhIjm8TX",
        "outputId": "b08d5bcf-9984-4ae7-b8ef-b1bc89a176a9"
      },
      "execution_count": 41,
      "outputs": [
        {
          "output_type": "stream",
          "name": "stdout",
          "text": [
            "Carro 1: Golf\n",
            "Carros: ['Corolla', 'Civic', 'Tucson', 'GLA']\n"
          ]
        }
      ]
    },
    {
      "cell_type": "code",
      "source": [
        "tupla_carros = 'Golf', 'Corolla', 'Civic', 'Tucson', 'GLA'\n",
        "\n",
        "for i in range(len(tupla_carros)):\n",
        "  print(f\"Carro {i}: {tupla_carros[i]}\")"
      ],
      "metadata": {
        "id": "m1PvcrGGnlqC"
      },
      "execution_count": null,
      "outputs": []
    }
  ]
}