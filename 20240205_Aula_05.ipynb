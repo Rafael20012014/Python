{
  "nbformat": 4,
  "nbformat_minor": 0,
  "metadata": {
    "colab": {
      "provenance": [],
      "authorship_tag": "ABX9TyNcNN8Xm9qza5k5JR5G/ejI",
      "include_colab_link": true
    },
    "kernelspec": {
      "name": "python3",
      "display_name": "Python 3"
    },
    "language_info": {
      "name": "python"
    }
  },
  "cells": [
    {
      "cell_type": "markdown",
      "metadata": {
        "id": "view-in-github",
        "colab_type": "text"
      },
      "source": [
        "<a href=\"https://colab.research.google.com/github/RafaelMeneguelo/Python/blob/main/20240205_Aula_05.ipynb\" target=\"_parent\"><img src=\"https://colab.research.google.com/assets/colab-badge.svg\" alt=\"Open In Colab\"/></a>"
      ]
    },
    {
      "cell_type": "code",
      "execution_count": null,
      "metadata": {
        "id": "Et_w6XPuI1Nm"
      },
      "outputs": [],
      "source": [
        "for i in range(10):\n",
        "  print(i)"
      ]
    },
    {
      "cell_type": "code",
      "source": [
        "for i in 'Rafael':\n",
        "  print(i)"
      ],
      "metadata": {
        "id": "hbaF7iktdcMj"
      },
      "execution_count": null,
      "outputs": []
    },
    {
      "cell_type": "code",
      "source": [
        "import random\n",
        "\n",
        "dado1 = 0\n",
        "dado2 = 0\n",
        "dado3 = 0\n",
        "dado4 = 0\n",
        "dado5 = 0\n",
        "dado6 = 0\n",
        "\n",
        "for i in range(1000):\n",
        "    dado = random.randint(1,6)\n",
        "    if dado == 1:\n",
        "      dado1 += 1\n",
        "    elif dado == 2:\n",
        "      dado2 += 1\n",
        "    elif dado == 3:\n",
        "      dado3 += 1\n",
        "    elif dado == 4:\n",
        "      dado4 += 1\n",
        "    elif dado == 5:\n",
        "      dado5 += 1\n",
        "    elif dado == 6:\n",
        "      dado6 += 1\n",
        "\n",
        "print('1: ' + str(dado1))\n",
        "print('2: ' + str(dado2))\n",
        "print('3: ' + str(dado3))\n",
        "print('4: ' + str(dado4))\n",
        "print('5: ' + str(dado5))\n",
        "print('6: ' + str(dado6))"
      ],
      "metadata": {
        "id": "Tn42_ENzd4zo",
        "outputId": "5fce46aa-7bf8-4980-a591-abee11933b30",
        "colab": {
          "base_uri": "https://localhost:8080/"
        }
      },
      "execution_count": null,
      "outputs": [
        {
          "output_type": "stream",
          "name": "stdout",
          "text": [
            "1: 183\n",
            "2: 172\n",
            "3: 133\n",
            "4: 159\n",
            "5: 166\n",
            "6: 187\n"
          ]
        }
      ]
    },
    {
      "cell_type": "markdown",
      "source": [
        "Dada a atual crise hídrica do país, as pessoas começaram a construir\n",
        "reservatórios para armazenar água em suas propriedades. Faça um\n",
        "programa em linguagem Python que auxilie os utilizadores do reservatório a\n",
        "controlarem seu consumo. Obtenha do teclado as dimensões de um\n",
        "reservatório (altura, largura e comprimento, em centímetros) e o consumo\n",
        "médio diário dos utilizadores do reservatório (em litros/dia).\n",
        "\n",
        "Assuma que o reservatório esteja cheio, tenha formato cúbico e informe:\n",
        "\n",
        "(a) A capacidade total do reservatório, em litros;\n",
        "\n",
        "(b) A autonomia do reservatório, em dias;\n",
        "\n",
        "(c) A classificação do consumo, de acordo com a quantidade de dias de\n",
        "autonomia:\n",
        "\n",
        "Consumo elevado, se a autonomia for menor que 2 dias;\n",
        "\n",
        "Consumo moderado, se a autonomia estiver entre 2 e 7 dias;\n",
        "\n",
        "Consumo reduzido, se a autonomia maior que 7 dias.\n",
        "\n",
        "Obs.: Considere que cada litro equivale a 1000 cm3 ou 1 dm3."
      ],
      "metadata": {
        "id": "P9FKTy2BsoR8"
      }
    },
    {
      "cell_type": "code",
      "source": [
        "altura = float(input('Qual é a altura do seu reservatório? (em centímetros): '))\n",
        "largura = float(input('Qual é a largura do seu reservatório? (em centímetros): '))\n",
        "comprimento = float(input('Qual é o comprimento do seu reservatório? (em centímetros): '))\n",
        "\n",
        "# (a)\n",
        "capacidade_total = ((altura * largura * comprimento) / 1000)\n",
        "print()\n",
        "print('A capacidade total do seu reservatório é de: {:0.0f}'.format(capacidade_total), 'Litros')\n",
        "print()\n",
        "\n",
        "# (b)\n",
        "consumo_medio_diario = float(input('Quantos litros, em média, você utiliza por dia?: '))\n",
        "autonomia = capacidade_total / consumo_medio_diario\n",
        "\n",
        "#(c)\n",
        "if autonomia < 2:\n",
        "  print('A autonomia do seu reservatório é de {:0.0f}'.format(autonomia), 'dias e o consumo está elevado!')\n",
        "elif autonomia > 3 and autonomia < 7:\n",
        "  print('A autonomia do seu reservatório é de {:0.0f}'.format(autonomia), 'dias e o consumo deve ser moderado!')\n",
        "elif autonomia > 7:\n",
        "  print('A autonomia do seu reservatório é de {:0.0f}'.format(autonomia), 'dias e o consumo deve ser reduzido.')\n"
      ],
      "metadata": {
        "colab": {
          "base_uri": "https://localhost:8080/"
        },
        "id": "WNxmnUK9tHMj",
        "outputId": "5f5248e2-695b-48fc-9cb5-17e19e85052e"
      },
      "execution_count": null,
      "outputs": [
        {
          "output_type": "stream",
          "name": "stdout",
          "text": [
            "Qual é a altura do seu reservatório? (em centímetros): 200\n",
            "Qual é a largura do seu reservatório? (em centímetros): 200\n",
            "Qual é o comprimento do seu reservatório? (em centímetros): 200\n",
            "\n",
            "A capacidade total do seu reservatório é de: 8000 Litros\n",
            "\n",
            "Quantos litros, em média, você utiliza por dia?: 200\n",
            "A autonomia do seu reservatório é de 40 dias e o consumo está reduzido.\n"
          ]
        }
      ]
    }
  ]
}