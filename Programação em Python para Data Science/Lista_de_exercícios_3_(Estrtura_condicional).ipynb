{
  "nbformat": 4,
  "nbformat_minor": 0,
  "metadata": {
    "colab": {
      "provenance": []
    },
    "kernelspec": {
      "name": "python3",
      "display_name": "Python 3"
    },
    "language_info": {
      "name": "python"
    }
  },
  "cells": [
    {
      "cell_type": "markdown",
      "source": [
        "1) Faça um programa que peça um número ao usuário e informe se é par ou ímpar."
      ],
      "metadata": {
        "id": "wkBfxWaKoATV"
      }
    },
    {
      "cell_type": "code",
      "execution_count": null,
      "metadata": {
        "colab": {
          "base_uri": "https://localhost:8080/"
        },
        "id": "GpvVxO49n4mi",
        "outputId": "fde2e643-ad8a-40d6-c4de-5e165897be93"
      },
      "outputs": [
        {
          "output_type": "stream",
          "name": "stdout",
          "text": [
            "Digite um número: 10\n",
            "O número 10 é par.\n"
          ]
        }
      ],
      "source": [
        "numero = int(input(\"Digite um número: \"))\n",
        "\n",
        "if numero % 2 == 0:\n",
        "    print(f\"O número {numero} é par.\")\n",
        "else:\n",
        "    print(f\"O número {numero} é ímpar.\")"
      ]
    },
    {
      "cell_type": "markdown",
      "source": [
        "2) Uma empresa de transporte público quer fazer um sistema automático para identificar se o usuário terá gratuidade no transporte ou não. Faça um programa que pergunte a idade do usuário, se ele tiver 65 anos ou mais irá informar que ele tem gratuidade no transporte."
      ],
      "metadata": {
        "id": "idnEdkcooO4y"
      }
    },
    {
      "cell_type": "code",
      "source": [
        "idade = int(input(\"Digite a idade do usuário: \"))\n",
        "\n",
        "if idade >= 65:\n",
        "  print(\"O usuário possui gratuidade no transporte.\")\n",
        "else:\n",
        "    print(\"O usuário não possui gratuidade no transporte.\")"
      ],
      "metadata": {
        "id": "c9SD6kw1oe8L"
      },
      "execution_count": null,
      "outputs": []
    },
    {
      "cell_type": "markdown",
      "source": [
        "3) Faça um programa que pede duas notas de um aluno. Em seguida ele deve calcular a média do aluno e dar o seguinte resultado:\n",
        "\n",
        "- Aprovado: Acima de 7\n",
        "- Reporvado: Abaixo de 5\n",
        "- Recuperação: Entre 5 e 7"
      ],
      "metadata": {
        "id": "u3DmSlsro0EA"
      }
    },
    {
      "cell_type": "code",
      "source": [
        "nota1 = float(input(\"Digite sua primeira nota: \"))\n",
        "nota2 = float(input(\"Digite sua segunda nota: \"))\n",
        "\n",
        "operacao = (nota1 + nota2) / 2\n",
        "\n",
        "if operacao >= 7:\n",
        "  print(\"Aprovado.\")\n",
        "elif operacao < 5:\n",
        "  print(\"Reprovado.\")\n",
        "else:\n",
        "  print(\"Recuperação.\")"
      ],
      "metadata": {
        "id": "r-5JBJDzozCI"
      },
      "execution_count": null,
      "outputs": []
    },
    {
      "cell_type": "markdown",
      "source": [
        "4) Uma ótica quer fazer um desconto diferenciado com base na idade do usuário em um modelo de óculos que custa R$200,00.\n",
        "O desconto será igual a idade do usuário, porém o desconto mínimo será 10% e o desconto máximo será de 80%.\n",
        "Faça um programa que pergunte a idade do usuário e então mostre o valor final do óculos e o desconto adquirido.\n"
      ],
      "metadata": {
        "id": "a-M3bFd-qG7C"
      }
    },
    {
      "cell_type": "code",
      "source": [
        "idade = int(input(\"Digite a idade do usuário: \"))\n",
        "\n",
        "valor = 200\n",
        "\n",
        "if idade <= 10:\n",
        "  desconto = 0.10 * valor\n",
        "  resultado = valor - desconto\n",
        "  print(f\"O valor do desconto será de {desconto:.2f} reais e o valor do óculos será de {resultado:.2f} reais.\")\n",
        "elif idade >= 80:\n",
        "  desconto = 0.80 * valor\n",
        "  resultado = valor - desconto\n",
        "  print(f\"O valor do desconto será de {desconto:.2f} reais e o valor do óculos será de {resultado:.2f} reais.\")\n",
        "else:\n",
        "  desconto = (idade * 0.01) * valor\n",
        "  resultado = valor - desconto\n",
        "  print(f\"O valor do desconto será de {desconto:.2f} reais e o valor do óculos será de {resultado:.2f} reais.\")"
      ],
      "metadata": {
        "id": "-3oAp9CMqSPm"
      },
      "execution_count": null,
      "outputs": []
    }
  ]
}