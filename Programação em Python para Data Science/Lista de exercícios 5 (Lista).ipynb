{
  "nbformat": 4,
  "nbformat_minor": 0,
  "metadata": {
    "colab": {
      "provenance": []
    },
    "kernelspec": {
      "name": "python3",
      "display_name": "Python 3"
    },
    "language_info": {
      "name": "python"
    }
  },
  "cells": [
    {
      "cell_type": "markdown",
      "source": [
        "1) Para a str a seguir:\n",
        "- jose\n",
        "- jorge\n",
        "- maria\n",
        "- antonio\n",
        "- ana\n",
        "- julia\n",
        "- márcio\n",
        "- fernando\n",
        "- zelia\n",
        "\n",
        "Faça um programa para imprimir estes dados com os índices de cada um.\n",
        "Exemplo:\n",
        "- 1 – jose\n",
        "- 2 – jorge\n",
        "- 3 – maria"
      ],
      "metadata": {
        "id": "Uafrb25tlp-c"
      }
    },
    {
      "cell_type": "code",
      "execution_count": null,
      "metadata": {
        "id": "fhDs8L_sjJxK"
      },
      "outputs": [],
      "source": [
        "lista_n = [\"jose\", \"jorge\", \"maria\", \"antonio\", \"ana\", \"julia\", \"márcio\", \"fernando\", \"zelia\"]\n",
        "\n",
        "for indice, nome in enumerate(lista_n, start = 1):\n",
        "  print(indice, \"-\", nome)"
      ]
    },
    {
      "cell_type": "markdown",
      "source": [
        "2) Crie um programa para inserir, apagar e listar os itens de uma lista de compras (utilize append e pop/del)."
      ],
      "metadata": {
        "id": "kIbW8yoYzkzH"
      }
    },
    {
      "cell_type": "code",
      "source": [
        "Listadecompras = []\n",
        "\n",
        "while True:\n",
        "  opcao = int(input('''\n",
        "  Lista de compras\n",
        "\n",
        "  1 - Inserir\n",
        "  2 - Apagar\n",
        "  3 - Listar\n",
        "  4 - Encerrar\n",
        "\n",
        "  Qual opção você deseja?\n",
        "    '''))\n",
        "\n",
        "  if opcao == 1:\n",
        "    item = input(\"Qual item você deseja inserir na sua lista de compras? \")\n",
        "    Listadecompras.append(item)\n",
        "    print(Listadecompras)\n",
        "  elif opcao == 2:\n",
        "    for indice, nome in enumerate(Listadecompras, start = 1):\n",
        "      print(indice, \"-\", nome)\n",
        "    item = int(input(\"Através do número, qual item você deseja apagar da sua lista de compras? \"))\n",
        "    item -= 1\n",
        "    Listadecompras.pop(item)\n",
        "    print(Listadecompras)\n",
        "  elif opcao == 3:\n",
        "    Listadecompras.sort()\n",
        "    for indice, nome in enumerate(Listadecompras, start = 1):\n",
        "      print(indice, \"-\", nome)\n",
        "  else:\n",
        "    for indice, nome in enumerate(Listadecompras, start = 1):\n",
        "      print(indice, \"-\", nome)\n",
        "    print(\"\\nEssa é sua lista final de compras!\")\n",
        "    break"
      ],
      "metadata": {
        "id": "Gxh-8G26zoPx"
      },
      "execution_count": null,
      "outputs": []
    },
    {
      "cell_type": "markdown",
      "source": [
        "3)\tCrie uma função que receba o nome e idade e então cadastre como um dicionário (dict) em uma lista de usuários."
      ],
      "metadata": {
        "id": "49-g9nVgX-T9"
      }
    },
    {
      "cell_type": "code",
      "source": [
        "dicionario = {}\n",
        "lista = []\n",
        "\n",
        "nome = input(\"Digite o nome do usuário: \")\n",
        "idade = input(\"Digite a idade do usuário: \")\n",
        "\n",
        "while True:\n",
        "  dicionario = {\"nome\": nome, \"idade\": idade}\n",
        "  lista.append(dicionario)\n",
        "  print(lista)\n",
        "\n",
        "  pergunta = int(input('''\n",
        "  Deseja inserir mais usuários?\n",
        "  1 - Sim\n",
        "  2 - Não\n",
        "  '''))\n",
        "  if pergunta == 1:\n",
        "    dicionario = {}\n",
        "    nome = input(\"\\nDigite o nome do usuário: \")\n",
        "    idade = input(\"Digite a idade do usuário: \")\n",
        "\n",
        "  else:\n",
        "    break\n",
        "\n",
        "print(\"Sua lista final é:\", lista)"
      ],
      "metadata": {
        "id": "d2-3AnpPYDld"
      },
      "execution_count": null,
      "outputs": []
    }
  ]
}
