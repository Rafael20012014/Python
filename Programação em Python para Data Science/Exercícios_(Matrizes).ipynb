{
  "nbformat": 4,
  "nbformat_minor": 0,
  "metadata": {
    "colab": {
      "provenance": []
    },
    "kernelspec": {
      "name": "python3",
      "display_name": "Python 3"
    },
    "language_info": {
      "name": "python"
    }
  },
  "cells": [
    {
      "cell_type": "code",
      "execution_count": null,
      "metadata": {
        "id": "ywg7WWMzsd1G"
      },
      "outputs": [],
      "source": [
        "import random\n",
        "\n",
        "matriz_a = [[0, 0, 0], [0, 0, 0], [0, 0, 0]]\n",
        "matriz_b = [[0, 0, 0], [0, 0, 0], [0, 0, 0]]\n",
        "\n",
        "for i in range(3):\n",
        "  for j in range(3):\n",
        "    matriz_a[i][j] = random.randint(1, 10)\n",
        "    matriz_b[i][j] = random.randint(1, 10)\n",
        "\n",
        "print()\n",
        "print(matriz_a[0])\n",
        "print(matriz_a[1])\n",
        "print(matriz_a[2])\n",
        "print()\n",
        "print(matriz_b[0])\n",
        "print(matriz_b[1])\n",
        "print(matriz_b[2])\n",
        "\n",
        "soma_a = matriz_a[1][0] + matriz_a[2][0] + matriz_a[2][1]\n",
        "soma_b = matriz_b[0][1] + matriz_b[0][2] + matriz_b[1][2]\n",
        "\n",
        "print()\n",
        "print(soma_a)\n",
        "print(soma_b)"
      ]
    },
    {
      "cell_type": "code",
      "source": [
        "import numpy as np\n",
        "\n",
        "matriz_a = np.random.randint(10, size = (3, 3))\n",
        "\n",
        "print(matriz_a)\n",
        "\n",
        "det = np.linalg.det(matriz_a)\n",
        "\n",
        "print(det)"
      ],
      "metadata": {
        "id": "UNgydkiXRn93"
      },
      "execution_count": null,
      "outputs": []
    },
    {
      "cell_type": "markdown",
      "source": [
        "Uma pista de kart permite 10 voltas para cada um de 6 corredores. Faça um programa que defina aleatoriamente os tempos (em segundos) de cada volta de cada corredor. Ao final o programa deve informar:\n",
        "\n",
        "- De quem foi a melhor volta e em que volta;\n",
        "- Classificação final em ordem crescente;\n",
        "- Quem foi o vencedor."
      ],
      "metadata": {
        "id": "vNkahWPZYlKJ"
      }
    },
    {
      "cell_type": "code",
      "source": [
        "import numpy as np\n",
        "\n",
        "numero_corredores = 6\n",
        "numero_voltas = 10\n",
        "\n",
        "matriz = np.random.randint(120, size = (numero_corredores, numero_voltas))\n",
        "\n",
        "print(matriz)\n",
        "\n",
        "for linha in range(len(matriz)):\n",
        "    # Faça algo com a linha\n",
        "    print(matriz[linha])\n",
        "\n",
        "# Percorra todas as colunas da matriz\n",
        "for coluna in range(len(matriz[0])):\n",
        "    # Faça algo com a coluna\n",
        "    print(matriz[:, coluna])\n",
        "\n",
        "# Percorra todos os elementos da matriz\n",
        "for linha in range(len(matriz)):\n",
        "    for coluna in range(len(matriz[0])):\n",
        "        # Faça algo com o elemento\n",
        "        print(matriz[linha][coluna])\n",
        "\n",
        "# Percorra todos os elementos da matriz e obtenha seus índices\n",
        "for linha, coluna in enumerate(matriz):\n",
        "    # Faça algo com a linha e a coluna\n",
        "    print(f\"Linha: {linha}, Coluna: {coluna}, Valor: {matriz[linha][coluna]}\")"
      ],
      "metadata": {
        "id": "rUVyoDJDYalS"
      },
      "execution_count": null,
      "outputs": []
    }
  ]
}