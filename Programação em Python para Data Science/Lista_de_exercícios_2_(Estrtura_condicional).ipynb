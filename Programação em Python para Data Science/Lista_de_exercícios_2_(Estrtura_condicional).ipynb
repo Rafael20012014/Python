{
  "nbformat": 4,
  "nbformat_minor": 0,
  "metadata": {
    "colab": {
      "provenance": []
    },
    "kernelspec": {
      "name": "python3",
      "display_name": "Python 3"
    },
    "language_info": {
      "name": "python"
    }
  },
  "cells": [
    {
      "cell_type": "markdown",
      "source": [
        "1) Faça um programa que peça um número ao usuário e informe se é par ou ímpar."
      ],
      "metadata": {
        "id": "wkBfxWaKoATV"
      }
    },
    {
      "cell_type": "code",
      "execution_count": null,
      "metadata": {
        "colab": {
          "base_uri": "https://localhost:8080/"
        },
        "id": "GpvVxO49n4mi",
        "outputId": "fde2e643-ad8a-40d6-c4de-5e165897be93"
      },
      "outputs": [
        {
          "output_type": "stream",
          "name": "stdout",
          "text": [
            "Digite um número: 10\n",
            "O número 10 é par.\n"
          ]
        }
      ],
      "source": [
        "numero = int(input(\"Digite um número: \"))\n",
        "\n",
        "if numero % 2 == 0:\n",
        "    print(f\"O número {numero} é par.\")\n",
        "else:\n",
        "    print(f\"O número {numero} é ímpar.\")"
      ]
    },
    {
      "cell_type": "markdown",
      "source": [
        "2) Uma empresa de transporte público quer fazer um sistema automático para identificar se o usuário terá gratuidade no transporte ou não. Faça um programa que pergunte a idade do usuário, se ele tiver 65 anos ou mais irá informar que ele tem gratuidade no transporte."
      ],
      "metadata": {
        "id": "idnEdkcooO4y"
      }
    },
    {
      "cell_type": "code",
      "source": [
        "idade = int(input(\"Digite a idade do usuário: \"))\n",
        "\n",
        "if idade >= 65:\n",
        "  print(\"O usuário possui gratuidade no transporte.\")\n",
        "else:\n",
        "    print(\"O usuário não possui gratuidade no transporte.\")"
      ],
      "metadata": {
        "id": "c9SD6kw1oe8L"
      },
      "execution_count": null,
      "outputs": []
    },
    {
      "cell_type": "markdown",
      "source": [
        "3) Faça um programa que pede duas notas de um aluno. Em seguida ele deve calcular a média do aluno e dar o seguinte resultado:\n",
        "\n",
        "- Aprovado: Acima de 7\n",
        "- Reporvado: Abaixo de 5\n",
        "- Recuperação: Entre 5 e 7"
      ],
      "metadata": {
        "id": "u3DmSlsro0EA"
      }
    },
    {
      "cell_type": "code",
      "source": [
        "nota1 = float(input(\"Digite sua primeira nota: \"))\n",
        "nota2 = float(input(\"Digite sua segunda nota: \"))\n",
        "\n",
        "operacao = (nota1 + nota2) / 2\n",
        "\n",
        "if operacao >= 7:\n",
        "  print(\"Aprovado.\")\n",
        "elif operacao < 5:\n",
        "  print(\"Reprovado.\")\n",
        "else:\n",
        "  print(\"Recuperação.\")"
      ],
      "metadata": {
        "id": "r-5JBJDzozCI"
      },
      "execution_count": null,
      "outputs": []
    },
    {
      "cell_type": "markdown",
      "source": [
        "4) Uma ótica quer fazer um desconto diferenciado com base na idade do usuário em um modelo de óculos que custa R$200,00.\n",
        "O desconto será igual a idade do usuário, porém o desconto mínimo será 10% e o desconto máximo será de 80%.\n",
        "Faça um programa que pergunte a idade do usuário e então mostre o valor final do óculos e o desconto adquirido.\n"
      ],
      "metadata": {
        "id": "a-M3bFd-qG7C"
      }
    },
    {
      "cell_type": "code",
      "source": [
        "idade = int(input(\"Digite a idade do usuário: \"))\n",
        "\n",
        "valor = 200\n",
        "\n",
        "if idade <= 10:\n",
        "  porcentagem = 10\n",
        "  desconto = (porcentagem / 100) * valor\n",
        "  resultado = valor - desconto\n",
        "  print(f\"O desconto será de {porcentagem}% totalizando {desconto:.2f} reais de desconto e o valor do óculos será de {resultado:.2f} reais.\")\n",
        "\n",
        "elif idade >= 80:\n",
        "  porcentagem = 80\n",
        "  desconto = (porcentagem / 100) * valor\n",
        "  resultado = valor - desconto\n",
        "  print(f\"O desconto será de {porcentagem}% totalizando {desconto:.2f} reais de desconto e o valor do óculos será de {resultado:.2f} reais.\")\n",
        "\n",
        "else:\n",
        "  porcentagem = idade * 1\n",
        "  desconto = (porcentagem / 100) * valor\n",
        "  resultado = valor - desconto\n",
        "  print(f\"O desconto será de {porcentagem}% totalizando {desconto:.2f} reais de desconto e o valor do óculos será de {resultado:.2f} reais.\")"
      ],
      "metadata": {
        "id": "-3oAp9CMqSPm"
      },
      "execution_count": null,
      "outputs": []
    },
    {
      "cell_type": "markdown",
      "source": [
        "5)\tUma empresa pretende fazer um reajuste salarial para os funcionários e precisa da sua ajuda para criar um programa. Ficou definido os seguintes reajustes:\n",
        "\n",
        "-\tSalário abaixo de 1.500,00, aumento de 25%\n",
        "-\tSalário entre de 1.500,00 e 1.999,99, aumento de 20%\n",
        "-\tSalário entre de 2.000,00 e 2.999,99, aumento de 15%\n",
        "-\tSalário entre de 3.000,00 e 4.999,99, aumento de 10%\n",
        "-\tSalário acima de 5.000,00, aumento de 5%\n",
        "\n",
        "Faça um programa que pergunte ao usuário qual seu Salário Atual e mostre ao usuário:\n",
        "1.\tO salário atual;\n",
        "2.\tA porcentagem do reajuste;\n",
        "3.\tO aumento em R$;\n",
        "4.\tO salário final após o reajuste.\n"
      ],
      "metadata": {
        "id": "2_LC61Ml6PE4"
      }
    },
    {
      "cell_type": "code",
      "source": [
        "salario = float(input(\"Digite o seu salário atual: R$\"))\n",
        "\n",
        "if salario >= 5000:\n",
        "  reajuste = 5\n",
        "  aumento = salario * (reajuste / 100)\n",
        "  salariofinal = salario + aumento\n",
        "\n",
        "elif salario < 1999.99:\n",
        "  reajuste = 20\n",
        "  aumento = salario * (reajuste / 100)\n",
        "  salariofinal = salario + aumento\n",
        "\n",
        "elif salario < 2999.99:\n",
        "  reajuste = 15\n",
        "  aumento = salario * (reajuste / 100)\n",
        "  salariofinal = salario + aumento\n",
        "\n",
        "elif salario < 5000:\n",
        "  reajuste = 10\n",
        "  aumento = salario * (reajuste / 100)\n",
        "  salariofinal = salario + aumento\n",
        "\n",
        "else:\n",
        "  reajuste = 25\n",
        "  aumento = salario * (reajuste / 100)\n",
        "  salariofinal = salario + aumento\n",
        "\n",
        "print(f\"O seu salário atual é de: R${salario:.2f}\")\n",
        "print(f\"A porcentagem do reajuste é de {reajuste:.2f}%\")\n",
        "print(f\"O aumento em R$ foi de: R${aumento:.2f}\")\n",
        "print(f\"O salário final após o reajuste é de: R${salariofinal:.2f}\")"
      ],
      "metadata": {
        "id": "IFJvBSF46pLw"
      },
      "execution_count": null,
      "outputs": []
    },
    {
      "cell_type": "markdown",
      "source": [
        "6)\tLeia o texto abaixo sobre o Ano Bissexto:\n",
        "\n",
        "“O calendário gregoriano, estabelecido pela primeira vez em 1582 pelo Papa Gregório XIII, foi projetado para corrigir os erros introduzidos pelo calendário juliano, que é menos preciso.\n",
        "\n",
        "No calendário gregoriano, um ano normal consiste em 365 dias. Como o comprimento real de um ano sideral (o tempo necessário para a Terra girar uma vez sobre o Sol) é na verdade de 365,2425 dias, um \"ano bissexto\" de 366 dias é usado uma vez a cada quatro anos para eliminar o erro causado por três anos normais (mais curtos). Qualquer ano que seja uniformemente divisível por 4 é um ano bissexto: por exemplo, 1988, 1992 e 1996 são anos bissextos.\n",
        "\n",
        "No entanto, ainda há um pequeno erro que deve ser contabilizado. Para eliminar esse erro, o calendário gregoriano estipula que um ano que é uniformemente divisível por 100 (por exemplo, 1900) é um ano bissexto apenas se também é igualmente divisível por 400.\n",
        "\n",
        "Por essa razão, os seguintes anos não são bissextos:\n",
        "\n",
        "1700, 1800, 1900, 2100, 2200, 2300, 2500, 2600:\n",
        "\n",
        "Isso porque eles são uniformemente divisíveis por 100, mas não por 400.\n",
        "\n",
        "Os seguintes anos são bissextos: 1600, 2000, 2400\n",
        "\n",
        "Isso porque eles são uniformemente divisíveis por 100 e 400.”\n",
        "\n",
        "Faça um programa no qual o usuário informe um ano e o sistema responda se o ano é bissexto ou não.\n"
      ],
      "metadata": {
        "id": "avjV5z4RfIAI"
      }
    },
    {
      "cell_type": "code",
      "source": [
        "ano = int(input(\"Digite um ano que deseja saber se é bissexto: \"))\n",
        "\n",
        "if (ano % 4 == 0 and ano % 100 != 0):\n",
        "  resultado1 = True\n",
        "else:\n",
        "  resultado1 = False\n",
        "\n",
        "if ano % 400 == 0:\n",
        "  resultado2 = True\n",
        "else:\n",
        "  resultado2 = False\n",
        "\n",
        "if resultado1 == True or resultado2 == True:\n",
        "  print(\"O ano é bissexto.\")\n",
        "else:\n",
        "  print(\"O ano não é bissexto.\")\n",
        "\n",
        "print(resultado1)\n",
        "print(resultado2)"
      ],
      "metadata": {
        "id": "Z21IQehDfL28"
      },
      "execution_count": null,
      "outputs": []
    },
    {
      "cell_type": "markdown",
      "source": [
        "7) Faça um programa que pergunte uma data ao usuário (dia, mês e ano separadamente) e valide se aquela data é real ou não, fazendo as seguintes validações:\n",
        "\n",
        "-\tVerificar se o dia informado existe dentro daquele mês\n",
        "-\tTem 31 dias se o mês for 1, 3, 5, 7, 8, 10 ou 12;\n",
        "-\tTem 30 dias se o mês for 4, 6, 9 ou 11;\n",
        "-\tTem 28 dias se o mês for 2 e o ano não for bissexto;\n",
        "-\tTem 29 dias se o mês for 2 e o ano for bissexto.\n",
        "-\tVerificar se o mês informado existe (ano vai até 12 meses);\n",
        "-\tVerificar se o dia, mês e ano são valores positivos.\n",
        "\n",
        "Informar ao usuário se a data for válida ou não.\n"
      ],
      "metadata": {
        "id": "_1gTjEFNdOOD"
      }
    },
    {
      "cell_type": "code",
      "source": [
        "dia = int(input(\"Digite o dia: \"))\n",
        "mes = int(input(\"Digite o mês: \"))\n",
        "ano = int(input(\"Digite o ano: \"))\n",
        "\n",
        "# if (ano % 4 == 0 and ano % 100 != 0):\n",
        "#   resultado1 = True\n",
        "# else:\n",
        "#   resultado1 = False\n",
        "\n",
        "# if ano % 400 == 0:\n",
        "#   resultado2 = True\n",
        "# else:\n",
        "#   resultado2 = False\n",
        "\n",
        "# if resultado1 == True or resultado2 == True:\n",
        "#   valideano = True\n",
        "# else:\n",
        "#   valideano = False\n",
        "\n",
        "# Cria a variável \"valideano\" que informa se o ano é bissexto ou não.\n",
        "\n",
        "# print(valideano)\n",
        "\n",
        "# if mes <= 12:\n",
        "#   validemes = True\n",
        "# else:\n",
        "#   validemes = False\n",
        "\n",
        "# print(validemes)\n",
        "\n",
        "# if dia == 31:\n",
        "\n",
        "# if dia <= 28:\n",
        "#   validedia = True\n",
        "\n",
        "# elif dia <=29:\n",
        "#   if valideano == True:\n",
        "#     validedia = True\n",
        "#   else:\n",
        "#     validedia = False\n",
        "\n",
        "# elif dia <= 30:\n",
        "\n",
        "\n",
        "# print(validedia)\n",
        "\n",
        "# if validedia == validemes == valideano:\n",
        "#   print(\"A data é válida.\")\n",
        "# else:\n",
        "#   print(\"A data não é válida.\")"
      ],
      "metadata": {
        "id": "fwgabOVidRAE"
      },
      "execution_count": null,
      "outputs": []
    },
    {
      "cell_type": "markdown",
      "source": [],
      "metadata": {
        "id": "mbc8pJXElgni"
      }
    }
  ]
}