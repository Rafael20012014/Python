{
  "nbformat": 4,
  "nbformat_minor": 0,
  "metadata": {
    "colab": {
      "provenance": []
    },
    "kernelspec": {
      "name": "python3",
      "display_name": "Python 3"
    },
    "language_info": {
      "name": "python"
    }
  },
  "cells": [
    {
      "cell_type": "markdown",
      "source": [
        "1) Para a str a seguir:\n",
        "- jose\n",
        "- jorge\n",
        "- maria\n",
        "- antonio\n",
        "- ana\n",
        "- julia\n",
        "- márcio\n",
        "- fernando\n",
        "- zelia\n",
        "\n",
        "Faça um programa para imprimir estes dados com os índices de cada um.\n",
        "Exemplo:\n",
        "- 1 – jose\n",
        "- 2 – jorge\n",
        "- 3 – maria"
      ],
      "metadata": {
        "id": "Uafrb25tlp-c"
      }
    },
    {
      "cell_type": "code",
      "execution_count": null,
      "metadata": {
        "id": "fhDs8L_sjJxK"
      },
      "outputs": [],
      "source": [
        "lista_n = [\"jose\", \"jorge\", \"maria\", \"antonio\", \"ana\", \"julia\", \"márcio\", \"fernando\", \"zelia\"]\n",
        "\n",
        "for indice, nome in enumerate(lista_n, start = 1):\n",
        "  print(indice, \"-\", nome)"
      ]
    },
    {
      "cell_type": "markdown",
      "source": [
        "2) Crie um programa para inserir, apagar e listar os itens de uma lista de compras (utilize append e pop/del)."
      ],
      "metadata": {
        "id": "kIbW8yoYzkzH"
      }
    },
    {
      "cell_type": "code",
      "source": [
        "Listadecompras = []\n",
        "\n",
        "while True:\n",
        "  opcao = int(input('''\n",
        "  Lista de compras\n",
        "\n",
        "  1 - Inserir\n",
        "  2 - Apagar\n",
        "  3 - Listar\n",
        "  4 - Encerrar\n",
        "\n",
        "  Qual opção você deseja?\n",
        "    '''))\n",
        "\n",
        "  if opcao == 1:\n",
        "    item = input(\"Qual item você deseja inserir na sua lista de compras? \")\n",
        "    Listadecompras.append(item)\n",
        "    print(Listadecompras)\n",
        "  elif opcao == 2:\n",
        "    for indice, nome in enumerate(Listadecompras, start = 1):\n",
        "      print(indice, \"-\", nome)\n",
        "    item = int(input(\"Através do número, qual item você deseja apagar da sua lista de compras? \"))\n",
        "    item -= 1\n",
        "    Listadecompras.pop(item)\n",
        "    print(Listadecompras)\n",
        "  elif opcao == 3:\n",
        "    Listadecompras.sort()\n",
        "    for indice, nome in enumerate(Listadecompras, start = 1):\n",
        "      print(indice, \"-\", nome)\n",
        "  else:\n",
        "    for indice, nome in enumerate(Listadecompras, start = 1):\n",
        "      print(indice, \"-\", nome)\n",
        "    print(\"\\nEssa é sua lista final de compras!\")\n",
        "    break"
      ],
      "metadata": {
        "id": "Gxh-8G26zoPx"
      },
      "execution_count": null,
      "outputs": []
    },
    {
      "cell_type": "markdown",
      "source": [
        "3)\tCrie uma função que receba o nome e idade e então cadastre como um dicionário (dict) em uma lista de usuários."
      ],
      "metadata": {
        "id": "49-g9nVgX-T9"
      }
    },
    {
      "cell_type": "code",
      "source": [
        "dicionario = {}\n",
        "lista = []\n",
        "\n",
        "nome = input(\"Digite o nome do usuário: \")\n",
        "idade = input(\"Digite a idade do usuário: \")\n",
        "\n",
        "while True:\n",
        "  dicionario = {\"nome\": nome, \"idade\": idade}\n",
        "  lista.append(dicionario)\n",
        "  print(lista)\n",
        "\n",
        "  pergunta = int(input('''\n",
        "  Deseja inserir mais usuários?\n",
        "  1 - Sim\n",
        "  2 - Não\n",
        "  '''))\n",
        "  if pergunta == 1:\n",
        "    dicionario = {}\n",
        "    nome = input(\"\\nDigite o nome do usuário: \")\n",
        "    idade = input(\"Digite a idade do usuário: \")\n",
        "\n",
        "  else:\n",
        "    break\n",
        "\n",
        "print(\"Sua lista final é:\", lista)"
      ],
      "metadata": {
        "id": "d2-3AnpPYDld"
      },
      "execution_count": null,
      "outputs": []
    },
    {
      "cell_type": "markdown",
      "source": [
        "4) Crie uma função que receba o nome, idade e CPF e então cadastre como um dicionário (dict) em uma lista de usuários.\n",
        "O programa deverá permitir adicionar usuário, excluir usuário e listar usuários.\n",
        "Valide se o CPF é válido ou não antes de aceitar o cadastro.\n"
      ],
      "metadata": {
        "id": "gSJhtkZr8lQd"
      }
    },
    {
      "cell_type": "code",
      "source": [
        "dicionario = {}\n",
        "lista = []\n",
        "\n",
        "nome = input(\"Digite o nome do usuário: \")\n",
        "idade = input(\"Digite a idade do usuário: \")\n",
        "cpf = input(\"Digite o CPF do usuário: \")\n",
        "dicionario = {'nome': nome, 'idade': idade, 'CPF': cpf}\n",
        "lista.append(dicionario)\n",
        "print(lista)\n",
        "\n",
        "while True:\n",
        "\n",
        "  pergunta = int(input('''\n",
        "  1 - Inserir usuário\n",
        "  2 - Excluir usuário\n",
        "  3 - Listar\n",
        "  4 - Encerrar\n",
        "  '''))\n",
        "\n",
        "  if pergunta == 1:\n",
        "    nome = input(\"Digite o nome do usuário: \")\n",
        "    idade = input(\"Digite a idade do usuário: \")\n",
        "    cpf = input(\"Digite o CPF do usuário: \")\n",
        "    dicionario = {}\n",
        "    dicionario = {'nome': nome, 'idade': idade, 'CPF': cpf}\n",
        "    lista.append(dicionario)\n",
        "    print(lista)\n",
        "\n",
        "  elif pergunta == 2:\n",
        "    for indice, dados in enumerate(lista, start = 1):\n",
        "      print(indice, \"-\", dados)\n",
        "      item = int(input(\"Através do número, qual usuário você deseja apagar da lista? \"))\n",
        "      item -= 1\n",
        "      lista.pop(item)\n",
        "      print(lista)\n",
        "\n",
        "  elif pergunta == 3:\n",
        "    for indice, dados in enumerate(lista, start = 1):\n",
        "      print(indice, \"-\", dados)\n",
        "\n",
        "  else:\n",
        "    break\n",
        "\n",
        "print(\"Sua lista final é:\", lista)"
      ],
      "metadata": {
        "id": "O99ajAsO9Y59",
        "colab": {
          "base_uri": "https://localhost:8080/",
          "height": 755
        },
        "outputId": "c0959d2d-da8f-4f6c-ec96-3e59eb7b92c3"
      },
      "execution_count": 14,
      "outputs": [
        {
          "output_type": "stream",
          "name": "stdout",
          "text": [
            "Digite o nome do usuário: Rafael\n",
            "Digite a idade do usuário: 23\n",
            "Digite o CPF do usuário: 50954134850\n",
            "[{'nome': 'Rafael', 'idade': '23', 'CPF': '50954134850'}]\n",
            "\n",
            "  1 - Inserir usuário\n",
            "  2 - Excluir usuário\n",
            "  3 - Listar\n",
            "  4 - Encerrar\n",
            "  1\n",
            "Digite o nome do usuário: Lilian\n",
            "Digite a idade do usuário: 50\n",
            "Digite o CPF do usuário: 14630376860\n",
            "[{'nome': 'Rafael', 'idade': '23', 'CPF': '50954134850'}, {'nome': 'Lilian', 'idade': '50', 'CPF': '14630376860'}]\n",
            "\n",
            "  1 - Inserir usuário\n",
            "  2 - Excluir usuário\n",
            "  3 - Listar\n",
            "  4 - Encerrar\n",
            "  2\n",
            "1 - {'nome': 'Rafael', 'idade': '23', 'CPF': '50954134850'}\n",
            "Através do número, qual usuário você deseja apagar da lista? 1\n",
            "[{'nome': 'Lilian', 'idade': '50', 'CPF': '14630376860'}]\n"
          ]
        },
        {
          "output_type": "error",
          "ename": "KeyboardInterrupt",
          "evalue": "Interrupted by user",
          "traceback": [
            "\u001b[0;31m---------------------------------------------------------------------------\u001b[0m",
            "\u001b[0;31mKeyboardInterrupt\u001b[0m                         Traceback (most recent call last)",
            "\u001b[0;32m<ipython-input-14-7c3b584cd28a>\u001b[0m in \u001b[0;36m<cell line: 11>\u001b[0;34m()\u001b[0m\n\u001b[1;32m     11\u001b[0m \u001b[0;32mwhile\u001b[0m \u001b[0;32mTrue\u001b[0m\u001b[0;34m:\u001b[0m\u001b[0;34m\u001b[0m\u001b[0;34m\u001b[0m\u001b[0m\n\u001b[1;32m     12\u001b[0m \u001b[0;34m\u001b[0m\u001b[0m\n\u001b[0;32m---> 13\u001b[0;31m   pergunta = int(input('''\n\u001b[0m\u001b[1;32m     14\u001b[0m   \u001b[0;36m1\u001b[0m \u001b[0;34m-\u001b[0m \u001b[0mInserir\u001b[0m \u001b[0musuário\u001b[0m\u001b[0;34m\u001b[0m\u001b[0;34m\u001b[0m\u001b[0m\n\u001b[1;32m     15\u001b[0m   \u001b[0;36m2\u001b[0m \u001b[0;34m-\u001b[0m \u001b[0mExcluir\u001b[0m \u001b[0musuário\u001b[0m\u001b[0;34m\u001b[0m\u001b[0;34m\u001b[0m\u001b[0m\n",
            "\u001b[0;32m/usr/local/lib/python3.10/dist-packages/ipykernel/kernelbase.py\u001b[0m in \u001b[0;36mraw_input\u001b[0;34m(self, prompt)\u001b[0m\n\u001b[1;32m    849\u001b[0m                 \u001b[0;34m\"raw_input was called, but this frontend does not support input requests.\"\u001b[0m\u001b[0;34m\u001b[0m\u001b[0;34m\u001b[0m\u001b[0m\n\u001b[1;32m    850\u001b[0m             )\n\u001b[0;32m--> 851\u001b[0;31m         return self._input_request(str(prompt),\n\u001b[0m\u001b[1;32m    852\u001b[0m             \u001b[0mself\u001b[0m\u001b[0;34m.\u001b[0m\u001b[0m_parent_ident\u001b[0m\u001b[0;34m,\u001b[0m\u001b[0;34m\u001b[0m\u001b[0;34m\u001b[0m\u001b[0m\n\u001b[1;32m    853\u001b[0m             \u001b[0mself\u001b[0m\u001b[0;34m.\u001b[0m\u001b[0m_parent_header\u001b[0m\u001b[0;34m,\u001b[0m\u001b[0;34m\u001b[0m\u001b[0;34m\u001b[0m\u001b[0m\n",
            "\u001b[0;32m/usr/local/lib/python3.10/dist-packages/ipykernel/kernelbase.py\u001b[0m in \u001b[0;36m_input_request\u001b[0;34m(self, prompt, ident, parent, password)\u001b[0m\n\u001b[1;32m    893\u001b[0m             \u001b[0;32mexcept\u001b[0m \u001b[0mKeyboardInterrupt\u001b[0m\u001b[0;34m:\u001b[0m\u001b[0;34m\u001b[0m\u001b[0;34m\u001b[0m\u001b[0m\n\u001b[1;32m    894\u001b[0m                 \u001b[0;31m# re-raise KeyboardInterrupt, to truncate traceback\u001b[0m\u001b[0;34m\u001b[0m\u001b[0;34m\u001b[0m\u001b[0m\n\u001b[0;32m--> 895\u001b[0;31m                 \u001b[0;32mraise\u001b[0m \u001b[0mKeyboardInterrupt\u001b[0m\u001b[0;34m(\u001b[0m\u001b[0;34m\"Interrupted by user\"\u001b[0m\u001b[0;34m)\u001b[0m \u001b[0;32mfrom\u001b[0m \u001b[0;32mNone\u001b[0m\u001b[0;34m\u001b[0m\u001b[0;34m\u001b[0m\u001b[0m\n\u001b[0m\u001b[1;32m    896\u001b[0m             \u001b[0;32mexcept\u001b[0m \u001b[0mException\u001b[0m \u001b[0;32mas\u001b[0m \u001b[0me\u001b[0m\u001b[0;34m:\u001b[0m\u001b[0;34m\u001b[0m\u001b[0;34m\u001b[0m\u001b[0m\n\u001b[1;32m    897\u001b[0m                 \u001b[0mself\u001b[0m\u001b[0;34m.\u001b[0m\u001b[0mlog\u001b[0m\u001b[0;34m.\u001b[0m\u001b[0mwarning\u001b[0m\u001b[0;34m(\u001b[0m\u001b[0;34m\"Invalid Message:\"\u001b[0m\u001b[0;34m,\u001b[0m \u001b[0mexc_info\u001b[0m\u001b[0;34m=\u001b[0m\u001b[0;32mTrue\u001b[0m\u001b[0;34m)\u001b[0m\u001b[0;34m\u001b[0m\u001b[0;34m\u001b[0m\u001b[0m\n",
            "\u001b[0;31mKeyboardInterrupt\u001b[0m: Interrupted by user"
          ]
        }
      ]
    }
  ]
}