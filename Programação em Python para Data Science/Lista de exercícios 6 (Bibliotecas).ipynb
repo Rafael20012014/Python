{
 "cells": [
  {
   "cell_type": "markdown",
   "metadata": {},
   "source": [
    "1)\tCrie um programa que ao digitar olá o sistema complete a palavra digitando mundo:"
   ]
  },
  {
   "cell_type": "code",
   "execution_count": null,
   "metadata": {},
   "outputs": [],
   "source": [
    "import keyboard\n",
    "\n",
    "texto = \"\"\n",
    "\n",
    "while True:\n",
    "    evento = keyboard.read_event()\n",
    "    print(\"O evento executado foi: \", evento)\n",
    "\n",
    "    if evento.event_type == keyboard.KEY_DOWN:\n",
    "        letra = evento.name\n",
    "        print(\"O nome do evento/letra é:\", letra)\n",
    "        texto += letra\n",
    "        print(\"O texto é:\", texto)\n",
    "\n",
    "        if texto == \"ola\":\n",
    "            print(texto + \" mundo!\")"
   ]
  },
  {
   "cell_type": "markdown",
   "metadata": {},
   "source": [
    "2)\tCrie um programa que ao pressionar a tecla CTRL, o sistema desenhe com o mouse a primeira letra do seu nome (obs: utilize o paint para ilustrar o funcionamento)"
   ]
  },
  {
   "cell_type": "code",
   "execution_count": null,
   "metadata": {},
   "outputs": [],
   "source": [
    "import keyboard\n",
    "import time\n",
    "import mouse\n",
    "\n",
    "texto = ''\n",
    "\n",
    "while True:\n",
    "    evento = keyboard.read_event()\n",
    "\n",
    "    if evento.event_type == keyboard.KEY_DOWN:\n",
    "        letra = evento.name\n",
    "        texto += letra\n",
    "        print(texto)\n",
    "        \n",
    "        if texto == 'ctrl':\n",
    "            time.sleep(2)\n",
    "            keyboard.press_and_release('left windows')\n",
    "            time.sleep(2)\n",
    "            keyboard.write('paint')\n",
    "            time.sleep(2)\n",
    "            keyboard.press_and_release('enter')\n",
    "            time.sleep(3)\n",
    "            mouse.drag(207, 700, 207, 500, absolute = True, duration = 0.5)\n",
    "            time.sleep(1)\n",
    "            mouse.drag(207, 500, 307, 500, absolute = True, duration = 0.5)\n",
    "            time.sleep(1)\n",
    "            mouse.drag(307, 500, 307, 600, absolute = True, duration = 0.5)\n",
    "            time.sleep(1)\n",
    "            mouse.drag(307, 600, 207, 600, absolute = True, duration = 0.5)\n",
    "            time.sleep(1)\n",
    "            mouse.drag(207, 600, 307, 700, absolute = True, duration = 0.5)\n",
    "            time.sleep(1)\n",
    "            mouse.click('right')\n",
    "            break"
   ]
  },
  {
   "cell_type": "code",
   "execution_count": null,
   "metadata": {},
   "outputs": [],
   "source": [
    "import mouse\n",
    "import time\n",
    "\n",
    "time.sleep(3)\n",
    "mouse.get_position()"
   ]
  },
  {
   "cell_type": "markdown",
   "metadata": {},
   "source": [
    "3) Crie uma lista com nome, nota do primeiro bimestre e nota do segundo bimestre dentro de um arquivo txt com pelo menos 10 alunos:\n",
    "\n",
    "Ex:\n",
    "\n",
    "João,7.5,10\n",
    "\n",
    "Maria,8,9\n",
    "\n",
    ".\n",
    "\n",
    ".\n",
    "\n",
    ".\n",
    "\n",
    "\n",
    "Agora crie um programa para abrir este arquivo txt, adicionar o campo média e salvar em um arquivo CSV.\n"
   ]
  },
  {
   "cell_type": "code",
   "execution_count": 41,
   "metadata": {},
   "outputs": [
    {
     "name": "stdout",
     "output_type": "stream",
     "text": [
      "['6']\n",
      "['8']\n",
      "['6', '5']\n",
      "['8', '8']\n",
      "['6', '5', '4']\n",
      "['8', '8', '3']\n",
      "['6', '5', '4', '5']\n",
      "['8', '8', '3', '8']\n",
      "['6', '5', '4', '5', '5']\n",
      "['8', '8', '3', '8', '8']\n",
      "['6', '5', '4', '5', '5', '8']\n",
      "['8', '8', '3', '8', '8', '9']\n",
      "['6', '5', '4', '5', '5', '8', '5']\n",
      "['8', '8', '3', '8', '8', '9', '8']\n",
      "['6', '5', '4', '5', '5', '8', '5', '6']\n",
      "['8', '8', '3', '8', '8', '9', '8', '6']\n",
      "['6', '5', '4', '5', '5', '8', '5', '6', '5']\n",
      "['8', '8', '3', '8', '8', '9', '8', '6', '8']\n",
      "['6', '5', '4', '5', '5', '8', '5', '6', '5', '5']\n",
      "['8', '8', '3', '8', '8', '9', '8', '6', '8', '8']\n"
     ]
    }
   ],
   "source": [
    "import csv\n",
    "\n",
    "nota1 = []\n",
    "nota2 = []\n",
    "\n",
    "with open('Maria,6,8.txt', 'r') as arquivo:\n",
    "    arquivo_csv = csv.reader(arquivo)\n",
    "    for linha in arquivo_csv:\n",
    "        nota1 += linha.pop(1)\n",
    "        nota2 += linha.pop(-1)\n",
    "        \n",
    "        media = (nota1 + nota2) / 2\n",
    "\n",
    "        print(media)\n",
    "        print(nota1)\n",
    "        print(nota2)\n",
    "\n"
   ]
  }
 ],
 "metadata": {
  "kernelspec": {
   "display_name": "Python 3",
   "language": "python",
   "name": "python3"
  },
  "language_info": {
   "codemirror_mode": {
    "name": "ipython",
    "version": 3
   },
   "file_extension": ".py",
   "mimetype": "text/x-python",
   "name": "python",
   "nbconvert_exporter": "python",
   "pygments_lexer": "ipython3",
   "version": "3.9.13"
  }
 },
 "nbformat": 4,
 "nbformat_minor": 2
}
